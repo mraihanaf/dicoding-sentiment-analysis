{
 "cells": [
  {
   "cell_type": "markdown",
   "id": "171261d0-00f7-4bce-9ac2-c7143133f7e6",
   "metadata": {},
   "source": [
    "# Analisis Sentimen Review Aplikasi Duolingo\n",
    "## Persiapan"
   ]
  },
  {
   "cell_type": "code",
   "execution_count": 31,
   "id": "bb028552-0488-4f88-aef1-4a61ae7d87a0",
   "metadata": {},
   "outputs": [],
   "source": [
    "import pandas as pd\n",
    "import numpy as np\n",
    "import nltk\n",
    "from nltk.corpus import stopwords\n",
    "import re\n",
    "import tensorflow as tf\n",
    "from tensorflow.keras.models import Sequential\n",
    "from tensorflow.keras.layers import Dense, LSTM, GRU, Embedding, SpatialDropout1D, Dropout, Conv1D, MaxPooling1D, Flatten, Bidirectional\n",
    "from tensorflow.keras.preprocessing.sequence import pad_sequences\n",
    "from tensorflow.keras.preprocessing.text import Tokenizer\n",
    "from tensorflow.keras.callbacks import EarlyStopping\n",
    "from sklearn.model_selection import train_test_split\n",
    "from sklearn.metrics import accuracy_score, classification_report\n",
    "from sklearn.preprocessing import LabelEncoder\n",
    "import seaborn as sns\n",
    "from matplotlib import pyplot as plt\n"
   ]
  },
  {
   "cell_type": "code",
   "execution_count": 8,
   "id": "68505256-725e-49a7-ba7b-91120531c3c9",
   "metadata": {},
   "outputs": [
    {
     "name": "stdout",
     "output_type": "stream",
     "text": [
      "<class 'pandas.core.frame.DataFrame'>\n",
      "RangeIndex: 9000 entries, 0 to 8999\n",
      "Data columns (total 2 columns):\n",
      " #   Column  Non-Null Count  Dtype \n",
      "---  ------  --------------  ----- \n",
      " 0   review  9000 non-null   object\n",
      " 1   rating  9000 non-null   int64 \n",
      "dtypes: int64(1), object(1)\n",
      "memory usage: 140.8+ KB\n"
     ]
    }
   ],
   "source": [
    "df = pd.read_csv(\"./duolingo_review.csv\")\n",
    "df.info()"
   ]
  },
  {
   "cell_type": "code",
   "execution_count": 10,
   "id": "a88b91ec-7099-465a-b5f9-a0dfa17bc704",
   "metadata": {},
   "outputs": [
    {
     "name": "stdout",
     "output_type": "stream",
     "text": [
      "1283\n",
      "review    0\n",
      "rating    0\n",
      "dtype: int64\n"
     ]
    }
   ],
   "source": [
    "print(df.duplicated().sum())\n",
    "print(df.isna().sum())"
   ]
  },
  {
   "cell_type": "code",
   "execution_count": 11,
   "id": "91a3d29b-e3be-4dc6-bfb3-c0a0e545595d",
   "metadata": {},
   "outputs": [],
   "source": [
    "df.dropna(inplace=True)\n",
    "df.drop_duplicates(inplace=True)"
   ]
  },
  {
   "cell_type": "markdown",
   "id": "9c511c55-8f97-4778-81fd-2ddaf310fe70",
   "metadata": {},
   "source": [
    "## Bersihkan teks"
   ]
  },
  {
   "cell_type": "code",
   "execution_count": 13,
   "id": "2cdf6623-4697-4819-b828-fa26a62b094c",
   "metadata": {},
   "outputs": [
    {
     "data": {
      "text/html": [
       "<div>\n",
       "<style scoped>\n",
       "    .dataframe tbody tr th:only-of-type {\n",
       "        vertical-align: middle;\n",
       "    }\n",
       "\n",
       "    .dataframe tbody tr th {\n",
       "        vertical-align: top;\n",
       "    }\n",
       "\n",
       "    .dataframe thead th {\n",
       "        text-align: right;\n",
       "    }\n",
       "</style>\n",
       "<table border=\"1\" class=\"dataframe\">\n",
       "  <thead>\n",
       "    <tr style=\"text-align: right;\">\n",
       "      <th></th>\n",
       "      <th>review</th>\n",
       "      <th>rating</th>\n",
       "    </tr>\n",
       "  </thead>\n",
       "  <tbody>\n",
       "    <tr>\n",
       "      <th>626</th>\n",
       "      <td>sweet</td>\n",
       "      <td>5</td>\n",
       "    </tr>\n",
       "    <tr>\n",
       "      <th>3449</th>\n",
       "      <td>Duolingo is wonderful app please download and ...</td>\n",
       "      <td>5</td>\n",
       "    </tr>\n",
       "    <tr>\n",
       "      <th>4589</th>\n",
       "      <td>this is th best AAP 😍 to learn other languages...</td>\n",
       "      <td>5</td>\n",
       "    </tr>\n",
       "    <tr>\n",
       "      <th>7701</th>\n",
       "      <td>It's a great language learning app</td>\n",
       "      <td>5</td>\n",
       "    </tr>\n",
       "    <tr>\n",
       "      <th>5331</th>\n",
       "      <td>Great tool to learning a new language</td>\n",
       "      <td>5</td>\n",
       "    </tr>\n",
       "  </tbody>\n",
       "</table>\n",
       "</div>"
      ],
      "text/plain": [
       "                                                 review  rating\n",
       "626                                               sweet       5\n",
       "3449  Duolingo is wonderful app please download and ...       5\n",
       "4589  this is th best AAP 😍 to learn other languages...       5\n",
       "7701                 It's a great language learning app       5\n",
       "5331              Great tool to learning a new language       5"
      ]
     },
     "execution_count": 13,
     "metadata": {},
     "output_type": "execute_result"
    }
   ],
   "source": [
    "df.sample(5)"
   ]
  },
  {
   "cell_type": "code",
   "execution_count": 22,
   "id": "e738ba97-27a0-49e0-aa16-f24670225771",
   "metadata": {},
   "outputs": [
    {
     "name": "stderr",
     "output_type": "stream",
     "text": [
      "[nltk_data] Downloading package stopwords to\n",
      "[nltk_data]     C:\\Users\\Raihan\\AppData\\Roaming\\nltk_data...\n",
      "[nltk_data]   Package stopwords is already up-to-date!\n"
     ]
    }
   ],
   "source": [
    "nltk.download('stopwords')\n",
    "stop_words = set(stopwords.words('english'))\n",
    "\n",
    "def clean_text(text):\n",
    "    text = re.sub(r'\\b\\w{1,2}\\b', '', text)  # Menghapus kata dengan 1-2 huruf\n",
    "    text = re.sub(r'[^a-zA-Z\\s]', '', text)   # Menghapus karakter non-alfabet\n",
    "    text = text.lower()                       # Mengubah menjadi huruf kecil\n",
    "    text = ' '.join([word for word in text.split() if word not in stop_words])  # Hapus stopwords\n",
    "    return text\n",
    "\n",
    "df['cleaned_content'] = df['review'].apply(clean_text)"
   ]
  },
  {
   "cell_type": "code",
   "execution_count": 33,
   "id": "7d29eaf3-264e-4af3-a1de-9193dd97e62f",
   "metadata": {},
   "outputs": [
    {
     "data": {
      "text/html": [
       "<div>\n",
       "<style scoped>\n",
       "    .dataframe tbody tr th:only-of-type {\n",
       "        vertical-align: middle;\n",
       "    }\n",
       "\n",
       "    .dataframe tbody tr th {\n",
       "        vertical-align: top;\n",
       "    }\n",
       "\n",
       "    .dataframe thead th {\n",
       "        text-align: right;\n",
       "    }\n",
       "</style>\n",
       "<table border=\"1\" class=\"dataframe\">\n",
       "  <thead>\n",
       "    <tr style=\"text-align: right;\">\n",
       "      <th></th>\n",
       "      <th>review</th>\n",
       "      <th>rating</th>\n",
       "      <th>cleaned_content</th>\n",
       "      <th>label</th>\n",
       "    </tr>\n",
       "  </thead>\n",
       "  <tbody>\n",
       "    <tr>\n",
       "      <th>3961</th>\n",
       "      <td>to learn other languages, Duolingo tells us ve...</td>\n",
       "      <td>5</td>\n",
       "      <td>learn languages duolingo tells detailed word c...</td>\n",
       "      <td>positif</td>\n",
       "    </tr>\n",
       "    <tr>\n",
       "      <th>6245</th>\n",
       "      <td>I love this Duolingo app</td>\n",
       "      <td>5</td>\n",
       "      <td>love duolingo app</td>\n",
       "      <td>positif</td>\n",
       "    </tr>\n",
       "    <tr>\n",
       "      <th>8828</th>\n",
       "      <td>The best app for learning i appriciate it</td>\n",
       "      <td>5</td>\n",
       "      <td>best app learning appriciate</td>\n",
       "      <td>positif</td>\n",
       "    </tr>\n",
       "    <tr>\n",
       "      <th>2051</th>\n",
       "      <td>It's a fun and interactive way to learn Spanis...</td>\n",
       "      <td>2</td>\n",
       "      <td>fun interactive way learn spanish german given...</td>\n",
       "      <td>negatif</td>\n",
       "    </tr>\n",
       "    <tr>\n",
       "      <th>3937</th>\n",
       "      <td>Thay should remove the heart system completely...</td>\n",
       "      <td>1</td>\n",
       "      <td>thay remove heart system completely wander peo...</td>\n",
       "      <td>negatif</td>\n",
       "    </tr>\n",
       "  </tbody>\n",
       "</table>\n",
       "</div>"
      ],
      "text/plain": [
       "                                                 review  rating  \\\n",
       "3961  to learn other languages, Duolingo tells us ve...       5   \n",
       "6245                           I love this Duolingo app       5   \n",
       "8828          The best app for learning i appriciate it       5   \n",
       "2051  It's a fun and interactive way to learn Spanis...       2   \n",
       "3937  Thay should remove the heart system completely...       1   \n",
       "\n",
       "                                        cleaned_content    label  \n",
       "3961  learn languages duolingo tells detailed word c...  positif  \n",
       "6245                                  love duolingo app  positif  \n",
       "8828                       best app learning appriciate  positif  \n",
       "2051  fun interactive way learn spanish german given...  negatif  \n",
       "3937  thay remove heart system completely wander peo...  negatif  "
      ]
     },
     "execution_count": 33,
     "metadata": {},
     "output_type": "execute_result"
    }
   ],
   "source": [
    "df.sample(5)"
   ]
  },
  {
   "cell_type": "code",
   "execution_count": 27,
   "id": "25b9380b-03eb-4276-b1da-cdaedb474eb6",
   "metadata": {},
   "outputs": [],
   "source": [
    "# Melabeli data berdasarkan skor\n",
    "def label_sentiment(score):\n",
    "    if score >= 4:\n",
    "        return 'positif'\n",
    "    elif score == 3:\n",
    "        return 'netral'\n",
    "    else:\n",
    "        return 'negatif'\n",
    "\n",
    "df['label'] = df['rating'].apply(label_sentiment)\n",
    "label_encoder = LabelEncoder()\n",
    "y = label_encoder.fit_transform(df['label'])\n"
   ]
  },
  {
   "cell_type": "markdown",
   "id": "9b96b4df-f08a-43e0-b5b7-66d6a2457ebc",
   "metadata": {},
   "source": [
    "## Membuat Model"
   ]
  },
  {
   "cell_type": "code",
   "execution_count": 35,
   "id": "35cd61d9-29a3-4bf2-ac19-cc28f73bc299",
   "metadata": {},
   "outputs": [],
   "source": [
    "# Tokenizing dan Padding untuk model LSTM, GRU, CNN, BiLSTM\n",
    "tokenizer = Tokenizer(num_words=5000)\n",
    "tokenizer.fit_on_texts(df['cleaned_content'])\n",
    "X_seq = tokenizer.texts_to_sequences(df['cleaned_content'])\n",
    "X_padded = pad_sequences(X_seq, maxlen=100)\n",
    "\n",
    "# Membagi data menjadi training dan testing set\n",
    "X_train_padded, X_test_padded, y_train, y_test = train_test_split(X_padded, y, test_size=0.2, random_state=42)\n"
   ]
  },
  {
   "cell_type": "code",
   "execution_count": 36,
   "id": "d5a9e06b-4b7d-478b-944e-226bba0bdf2f",
   "metadata": {},
   "outputs": [
    {
     "name": "stdout",
     "output_type": "stream",
     "text": [
      "Epoch 1/15\n",
      "\u001b[1m78/78\u001b[0m \u001b[32m━━━━━━━━━━━━━━━━━━━━\u001b[0m\u001b[37m\u001b[0m \u001b[1m27s\u001b[0m 234ms/step - accuracy: 0.8180 - loss: 0.6031 - val_accuracy: 0.8721 - val_loss: 0.4245\n",
      "Epoch 2/15\n",
      "\u001b[1m78/78\u001b[0m \u001b[32m━━━━━━━━━━━━━━━━━━━━\u001b[0m\u001b[37m\u001b[0m \u001b[1m19s\u001b[0m 218ms/step - accuracy: 0.8692 - loss: 0.4143 - val_accuracy: 0.8704 - val_loss: 0.3825\n",
      "Epoch 3/15\n",
      "\u001b[1m78/78\u001b[0m \u001b[32m━━━━━━━━━━━━━━━━━━━━\u001b[0m\u001b[37m\u001b[0m \u001b[1m17s\u001b[0m 223ms/step - accuracy: 0.8934 - loss: 0.3355 - val_accuracy: 0.8777 - val_loss: 0.3768\n",
      "Epoch 4/15\n",
      "\u001b[1m78/78\u001b[0m \u001b[32m━━━━━━━━━━━━━━━━━━━━\u001b[0m\u001b[37m\u001b[0m \u001b[1m20s\u001b[0m 251ms/step - accuracy: 0.9134 - loss: 0.2711 - val_accuracy: 0.8777 - val_loss: 0.3878\n",
      "Epoch 5/15\n",
      "\u001b[1m78/78\u001b[0m \u001b[32m━━━━━━━━━━━━━━━━━━━━\u001b[0m\u001b[37m\u001b[0m \u001b[1m17s\u001b[0m 200ms/step - accuracy: 0.9297 - loss: 0.2194 - val_accuracy: 0.8753 - val_loss: 0.4085\n",
      "Epoch 6/15\n",
      "\u001b[1m78/78\u001b[0m \u001b[32m━━━━━━━━━━━━━━━━━━━━\u001b[0m\u001b[37m\u001b[0m \u001b[1m17s\u001b[0m 223ms/step - accuracy: 0.9332 - loss: 0.2017 - val_accuracy: 0.8737 - val_loss: 0.4293\n",
      "\u001b[1m49/49\u001b[0m \u001b[32m━━━━━━━━━━━━━━━━━━━━\u001b[0m\u001b[37m\u001b[0m \u001b[1m2s\u001b[0m 37ms/step - accuracy: 0.8711 - loss: 0.3986\n",
      "LSTM Accuracy: 86.92%\n"
     ]
    }
   ],
   "source": [
    "#Model LSTM\n",
    "embedding_dim = 100\n",
    "\n",
    "lstm_model = Sequential()\n",
    "lstm_model.add(Embedding(input_dim=5000, output_dim=embedding_dim, input_length=100))\n",
    "lstm_model.add(SpatialDropout1D(0.2))\n",
    "lstm_model.add(LSTM(100, dropout=0.2, recurrent_dropout=0.2))\n",
    "lstm_model.add(Dense(3, activation='softmax'))\n",
    "\n",
    "lstm_model.compile(loss='sparse_categorical_crossentropy', optimizer='adam', metrics=['accuracy'])\n",
    "\n",
    "early_stopping = EarlyStopping(monitor='val_loss', patience=3, restore_best_weights=True)\n",
    "\n",
    "lstm_history = lstm_model.fit(X_train_padded, y_train, epochs=15, batch_size=64, validation_split=0.2, callbacks=[early_stopping])\n",
    "\n",
    "_, lstm_accuracy = lstm_model.evaluate(X_test_padded, y_test)\n",
    "print(f'LSTM Accuracy: {lstm_accuracy * 100:.2f}%')"
   ]
  },
  {
   "cell_type": "code",
   "execution_count": 37,
   "id": "a1bfb1d6-3183-4177-8610-badb7bc6aa4c",
   "metadata": {},
   "outputs": [
    {
     "name": "stdout",
     "output_type": "stream",
     "text": [
      "Epoch 1/15\n",
      "\u001b[1m78/78\u001b[0m \u001b[32m━━━━━━━━━━━━━━━━━━━━\u001b[0m\u001b[37m\u001b[0m \u001b[1m40s\u001b[0m 331ms/step - accuracy: 0.8278 - loss: 0.6581 - val_accuracy: 0.8696 - val_loss: 0.4092\n",
      "Epoch 2/15\n",
      "\u001b[1m78/78\u001b[0m \u001b[32m━━━━━━━━━━━━━━━━━━━━\u001b[0m\u001b[37m\u001b[0m \u001b[1m14s\u001b[0m 182ms/step - accuracy: 0.8689 - loss: 0.3876 - val_accuracy: 0.8672 - val_loss: 0.3893\n",
      "Epoch 3/15\n",
      "\u001b[1m78/78\u001b[0m \u001b[32m━━━━━━━━━━━━━━━━━━━━\u001b[0m\u001b[37m\u001b[0m \u001b[1m14s\u001b[0m 180ms/step - accuracy: 0.8852 - loss: 0.3416 - val_accuracy: 0.8745 - val_loss: 0.3833\n",
      "Epoch 4/15\n",
      "\u001b[1m78/78\u001b[0m \u001b[32m━━━━━━━━━━━━━━━━━━━━\u001b[0m\u001b[37m\u001b[0m \u001b[1m21s\u001b[0m 179ms/step - accuracy: 0.9164 - loss: 0.2666 - val_accuracy: 0.8688 - val_loss: 0.4087\n",
      "Epoch 5/15\n",
      "\u001b[1m78/78\u001b[0m \u001b[32m━━━━━━━━━━━━━━━━━━━━\u001b[0m\u001b[37m\u001b[0m \u001b[1m13s\u001b[0m 168ms/step - accuracy: 0.9249 - loss: 0.2215 - val_accuracy: 0.8745 - val_loss: 0.4340\n",
      "Epoch 6/15\n",
      "\u001b[1m78/78\u001b[0m \u001b[32m━━━━━━━━━━━━━━━━━━━━\u001b[0m\u001b[37m\u001b[0m \u001b[1m13s\u001b[0m 164ms/step - accuracy: 0.9438 - loss: 0.1985 - val_accuracy: 0.8761 - val_loss: 0.4709\n",
      "\u001b[1m49/49\u001b[0m \u001b[32m━━━━━━━━━━━━━━━━━━━━\u001b[0m\u001b[37m\u001b[0m \u001b[1m1s\u001b[0m 30ms/step - accuracy: 0.8742 - loss: 0.4057\n",
      "GRU Accuracy: 87.18%\n"
     ]
    }
   ],
   "source": [
    "#Model Gru\n",
    "gru_model = Sequential()\n",
    "gru_model.add(Embedding(input_dim=5000, output_dim=embedding_dim, input_length=100))\n",
    "gru_model.add(SpatialDropout1D(0.2))\n",
    "gru_model.add(GRU(100, dropout=0.2, recurrent_dropout=0.2))\n",
    "gru_model.add(Dense(3, activation='softmax'))\n",
    "\n",
    "gru_model.compile(loss='sparse_categorical_crossentropy', optimizer='adam', metrics=['accuracy'])\n",
    "\n",
    "gru_history = gru_model.fit(X_train_padded, y_train, epochs=15, batch_size=64, validation_split=0.2, callbacks=[early_stopping])\n",
    "\n",
    "_, gru_accuracy = gru_model.evaluate(X_test_padded, y_test)\n",
    "print(f'GRU Accuracy: {gru_accuracy * 100:.2f}%')"
   ]
  },
  {
   "cell_type": "code",
   "execution_count": 38,
   "id": "d5116a98-e8ff-46f5-9b38-35097605b9ea",
   "metadata": {},
   "outputs": [
    {
     "name": "stdout",
     "output_type": "stream",
     "text": [
      "Epoch 1/15\n",
      "\u001b[1m78/78\u001b[0m \u001b[32m━━━━━━━━━━━━━━━━━━━━\u001b[0m\u001b[37m\u001b[0m \u001b[1m7s\u001b[0m 58ms/step - accuracy: 0.8141 - loss: 0.5753 - val_accuracy: 0.8769 - val_loss: 0.4197\n",
      "Epoch 2/15\n",
      "\u001b[1m78/78\u001b[0m \u001b[32m━━━━━━━━━━━━━━━━━━━━\u001b[0m\u001b[37m\u001b[0m \u001b[1m4s\u001b[0m 53ms/step - accuracy: 0.8852 - loss: 0.3865 - val_accuracy: 0.8794 - val_loss: 0.3812\n",
      "Epoch 3/15\n",
      "\u001b[1m78/78\u001b[0m \u001b[32m━━━━━━━━━━━━━━━━━━━━\u001b[0m\u001b[37m\u001b[0m \u001b[1m4s\u001b[0m 54ms/step - accuracy: 0.9159 - loss: 0.2943 - val_accuracy: 0.8850 - val_loss: 0.3831\n",
      "Epoch 4/15\n",
      "\u001b[1m78/78\u001b[0m \u001b[32m━━━━━━━━━━━━━━━━━━━━\u001b[0m\u001b[37m\u001b[0m \u001b[1m4s\u001b[0m 52ms/step - accuracy: 0.9313 - loss: 0.2187 - val_accuracy: 0.8704 - val_loss: 0.4232\n",
      "Epoch 5/15\n",
      "\u001b[1m78/78\u001b[0m \u001b[32m━━━━━━━━━━━━━━━━━━━━\u001b[0m\u001b[37m\u001b[0m \u001b[1m4s\u001b[0m 54ms/step - accuracy: 0.9456 - loss: 0.1830 - val_accuracy: 0.8672 - val_loss: 0.4856\n",
      "\u001b[1m49/49\u001b[0m \u001b[32m━━━━━━━━━━━━━━━━━━━━\u001b[0m\u001b[37m\u001b[0m \u001b[1m1s\u001b[0m 10ms/step - accuracy: 0.8648 - loss: 0.4197\n",
      "CNN Accuracy: 86.85%\n"
     ]
    }
   ],
   "source": [
    "#Model CNN\n",
    "cnn_model = Sequential()\n",
    "cnn_model.add(Embedding(input_dim=5000, output_dim=embedding_dim, input_length=100))\n",
    "cnn_model.add(Conv1D(128, kernel_size=5, activation='relu'))\n",
    "cnn_model.add(MaxPooling1D(pool_size=2))\n",
    "cnn_model.add(Flatten())\n",
    "cnn_model.add(Dense(3, activation='softmax'))\n",
    "\n",
    "cnn_model.compile(loss='sparse_categorical_crossentropy', optimizer='adam', metrics=['accuracy'])\n",
    "\n",
    "cnn_history = cnn_model.fit(X_train_padded, y_train, epochs=15, batch_size=64, validation_split=0.2, callbacks=[early_stopping])\n",
    "\n",
    "_, cnn_accuracy = cnn_model.evaluate(X_test_padded, y_test)\n",
    "print(f'CNN Accuracy: {cnn_accuracy * 100:.2f}%')"
   ]
  },
  {
   "cell_type": "code",
   "execution_count": 39,
   "id": "680b47ff-46cd-484f-9eea-794dbb4f6209",
   "metadata": {},
   "outputs": [
    {
     "name": "stdout",
     "output_type": "stream",
     "text": [
      "Epoch 1/15\n",
      "\u001b[1m78/78\u001b[0m \u001b[32m━━━━━━━━━━━━━━━━━━━━\u001b[0m\u001b[37m\u001b[0m \u001b[1m55s\u001b[0m 465ms/step - accuracy: 0.8289 - loss: 0.5758 - val_accuracy: 0.8696 - val_loss: 0.4297\n",
      "Epoch 2/15\n",
      "\u001b[1m78/78\u001b[0m \u001b[32m━━━━━━━━━━━━━━━━━━━━\u001b[0m\u001b[37m\u001b[0m \u001b[1m32s\u001b[0m 413ms/step - accuracy: 0.8757 - loss: 0.3982 - val_accuracy: 0.8745 - val_loss: 0.3708\n",
      "Epoch 3/15\n",
      "\u001b[1m78/78\u001b[0m \u001b[32m━━━━━━━━━━━━━━━━━━━━\u001b[0m\u001b[37m\u001b[0m \u001b[1m34s\u001b[0m 432ms/step - accuracy: 0.8954 - loss: 0.3295 - val_accuracy: 0.8785 - val_loss: 0.3653\n",
      "Epoch 4/15\n",
      "\u001b[1m78/78\u001b[0m \u001b[32m━━━━━━━━━━━━━━━━━━━━\u001b[0m\u001b[37m\u001b[0m \u001b[1m41s\u001b[0m 431ms/step - accuracy: 0.9154 - loss: 0.2588 - val_accuracy: 0.8761 - val_loss: 0.3798\n",
      "Epoch 5/15\n",
      "\u001b[1m78/78\u001b[0m \u001b[32m━━━━━━━━━━━━━━━━━━━━\u001b[0m\u001b[37m\u001b[0m \u001b[1m33s\u001b[0m 418ms/step - accuracy: 0.9254 - loss: 0.2368 - val_accuracy: 0.8688 - val_loss: 0.4051\n",
      "Epoch 6/15\n",
      "\u001b[1m78/78\u001b[0m \u001b[32m━━━━━━━━━━━━━━━━━━━━\u001b[0m\u001b[37m\u001b[0m \u001b[1m34s\u001b[0m 435ms/step - accuracy: 0.9381 - loss: 0.2068 - val_accuracy: 0.8737 - val_loss: 0.4363\n",
      "\u001b[1m49/49\u001b[0m \u001b[32m━━━━━━━━━━━━━━━━━━━━\u001b[0m\u001b[37m\u001b[0m \u001b[1m4s\u001b[0m 71ms/step - accuracy: 0.8702 - loss: 0.3865\n",
      "BiLSTM Accuracy: 87.24%\n"
     ]
    }
   ],
   "source": [
    "#Model BiLSTM\n",
    "bilstm_model = Sequential()\n",
    "bilstm_model.add(Embedding(input_dim=5000, output_dim=embedding_dim, input_length=100))\n",
    "bilstm_model.add(SpatialDropout1D(0.2))\n",
    "bilstm_model.add(Bidirectional(LSTM(100, dropout=0.2, recurrent_dropout=0.2)))\n",
    "bilstm_model.add(Dense(3, activation='softmax'))\n",
    "\n",
    "bilstm_model.compile(loss='sparse_categorical_crossentropy', optimizer='adam', metrics=['accuracy'])\n",
    "\n",
    "bilstm_history = bilstm_model.fit(X_train_padded, y_train, epochs=15, batch_size=64, validation_split=0.2, callbacks=[early_stopping])\n",
    "\n",
    "_, bilstm_accuracy = bilstm_model.evaluate(X_test_padded, y_test)\n",
    "print(f'BiLSTM Accuracy: {bilstm_accuracy * 100:.2f}%')\n"
   ]
  },
  {
   "cell_type": "code",
   "execution_count": 40,
   "id": "1afd055a-5383-499d-9ffe-f131e18d963d",
   "metadata": {},
   "outputs": [
    {
     "data": {
      "image/png": "[encoded data removed]",
      "text/plain": [
       "<Figure size 800x600 with 1 Axes>"
      ]
     },
     "metadata": {},
     "output_type": "display_data"
    }
   ],
   "source": [
    "\n",
    "model_names = ['LSTM', 'CNN', 'GRU', 'BiLSTM']\n",
    "accuracies = [lstm_accuracy * 100, cnn_accuracy * 100, gru_accuracy * 100, bilstm_accuracy * 100]\n",
    "\n",
    "plt.figure(figsize=(8, 6))\n",
    "bars = plt.bar(model_names, accuracies, color=['steelblue', 'seagreen', 'darkorange', 'mediumpurple'])\n",
    "plt.ylim(0, 100)\n",
    "plt.ylabel('Accuracy (%)')\n",
    "plt.title('Comparison of Model Accuracies')\n",
    "\n",
    "for bar in bars:\n",
    "    yval = bar.get_height()\n",
    "    plt.text(bar.get_x() + bar.get_width()/2.0, yval + 1, f'{yval:.2f}%', ha='center', va='bottom')\n",
    "\n",
    "best_accuracy = max(lstm_accuracy, cnn_accuracy, gru_accuracy, bilstm_accuracy)\n",
    "if best_accuracy >= 0.85:\n",
    "    best_message = f\"Model terbaik dengan akurasi {best_accuracy * 100:.2f}%\"\n",
    "else:\n",
    "    best_message = \"Tidak ada model yang mencapai akurasi 85%\"\n",
    "\n",
    "plt.figtext(0.5, 0.01, best_message, wrap=True, horizontalalignment='center', fontsize=12)\n",
    "plt.show()\n"
   ]
  },
  {
   "cell_type": "code",
   "execution_count": 41,
   "id": "bba46db4-6114-4881-8dbc-7623480b09f6",
   "metadata": {},
   "outputs": [
    {
     "name": "stderr",
     "output_type": "stream",
     "text": [
      "WARNING:absl:You are saving your model as an HDF5 file via `model.save()` or `keras.saving.save_model(model)`. This file format is considered legacy. We recommend using instead the native Keras format, e.g. `model.save('my_model.keras')` or `keras.saving.save_model(model, 'my_model.keras')`. \n"
     ]
    },
    {
     "name": "stdout",
     "output_type": "stream",
     "text": [
      "Best model adalah BiLSTM with accuracy 87.24%. Saved as best_model_BiLSTM.h5\n"
     ]
    }
   ],
   "source": [
    "models = {\n",
    "    \"LSTM\": (lstm_model, lstm_accuracy),\n",
    "    \"CNN\": (cnn_model, cnn_accuracy),\n",
    "    \"GRU\": (gru_model, gru_accuracy),\n",
    "    \"BiLSTM\": (bilstm_model, bilstm_accuracy)\n",
    "}\n",
    "\n",
    "best_model_name, (best_model, best_acc) = max(models.items(), key=lambda item: item[1][1])\n",
    "\n",
    "best_model.save(f\"best_model_{best_model_name}.h5\")\n",
    "print(f\"Best model adalah {best_model_name} with accuracy {best_acc * 100:.2f}%. Saved as best_model_{best_model_name}.h5\")\n"
   ]
  },
  {
   "cell_type": "code",
   "execution_count": null,
   "id": "87773447-0f18-4ff3-bf17-63be9c0fefd2",
   "metadata": {},
   "outputs": [],
   "source": []
  }
 ],
 "metadata": {
  "kernelspec": {
   "display_name": "Python 3 (ipykernel)",
   "language": "python",
   "name": "python3"
  },
  "language_info": {
   "codemirror_mode": {
    "name": "ipython",
    "version": 3
   },
   "file_extension": ".py",
   "mimetype": "text/x-python",
   "name": "python",
   "nbconvert_exporter": "python",
   "pygments_lexer": "ipython3",
   "version": "3.12.6"
  }
 },
 "nbformat": 4,
 "nbformat_minor": 5
}
